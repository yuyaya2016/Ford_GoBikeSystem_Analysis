{
 "cells": [
  {
   "cell_type": "markdown",
   "metadata": {},
   "source": [
    "# Ford GoBike Bike Sharing Exploratory Analysis"
   ]
  },
  {
   "cell_type": "markdown",
   "metadata": {
    "slideshow": {
     "slide_type": "slide"
    }
   },
   "source": [
    "### Import Data"
   ]
  },
  {
   "cell_type": "code",
   "execution_count": 2,
   "metadata": {
    "slideshow": {
     "slide_type": "subslide"
    }
   },
   "outputs": [],
   "source": [
    "import pandas as pd\n",
    "import numpy as np\n",
    "import matplotlib.pyplot as plt\n",
    "import seaborn as sns\n",
    "%matplotlib inline\n",
    "from scipy import stats\n",
    "\n",
    "from requests import get\n",
    "from os import path, getcwd, makedirs, listdir \n",
    "from io import BytesIO\n",
    "from zipfile import ZipFile\n",
    "\n",
    "import warnings\n",
    "warnings.filterwarnings('ignore')\n"
   ]
  },
  {
   "cell_type": "code",
   "execution_count": 3,
   "metadata": {},
   "outputs": [],
   "source": [
    "folder_name_of_csvs = 'trip_data_files'\n",
    "\n",
    "for month in range(1, 13):\n",
    "    month_string = str(month)\n",
    "    month_leading_zero = month_string.zfill(2) #zfill() 返回指定长度的字符串，原字符串右对齐，前面填充0\n",
    "    \n",
    "    bike_data_url = 'https://s3.amazonaws.com/fordgobike-data/2018' + month_leading_zero + '-fordgobike-tripdata.csv.zip'\n",
    "    response = get(bike_data_url) #get(): return the target value, if none, return defalut value\n",
    "        \n",
    "    # code below opens zip file; BytesIO returns a readable and writeable view of the contents;\n",
    "    unzipped_file = ZipFile(BytesIO(response.content))\n",
    "        \n",
    "    # puts extracted zip file into folder trip_data_files\n",
    "    unzipped_file.extractall(folder_name_of_csvs)"
   ]
  },
  {
   "cell_type": "code",
   "execution_count": 4,
   "metadata": {},
   "outputs": [],
   "source": [
    "list_csvs = []\n",
    "for file_name in listdir(folder_name_of_csvs):\n",
    "    list_csvs.append(pd.read_csv(folder_name_of_csvs+'/'+file_name))\n",
    "df_18 = pd.concat(list_csvs)"
   ]
  },
  {
   "cell_type": "code",
   "execution_count": 5,
   "metadata": {},
   "outputs": [],
   "source": [
    "df_18.to_csv('data.csv')"
   ]
  },
  {
   "cell_type": "code",
   "execution_count": 6,
   "metadata": {},
   "outputs": [],
   "source": [
    "df_18 = pd.read_csv('data.csv')"
   ]
  },
  {
   "cell_type": "markdown",
   "metadata": {
    "slideshow": {
     "slide_type": "slide"
    }
   },
   "source": [
    "### Assess Data"
   ]
  },
  {
   "cell_type": "code",
   "execution_count": 7,
   "metadata": {},
   "outputs": [
    {
     "data": {
      "text/html": [
       "<div>\n",
       "<style scoped>\n",
       "    .dataframe tbody tr th:only-of-type {\n",
       "        vertical-align: middle;\n",
       "    }\n",
       "\n",
       "    .dataframe tbody tr th {\n",
       "        vertical-align: top;\n",
       "    }\n",
       "\n",
       "    .dataframe thead th {\n",
       "        text-align: right;\n",
       "    }\n",
       "</style>\n",
       "<table border=\"1\" class=\"dataframe\">\n",
       "  <thead>\n",
       "    <tr style=\"text-align: right;\">\n",
       "      <th></th>\n",
       "      <th>Unnamed: 0</th>\n",
       "      <th>duration_sec</th>\n",
       "      <th>start_time</th>\n",
       "      <th>end_time</th>\n",
       "      <th>start_station_id</th>\n",
       "      <th>start_station_name</th>\n",
       "      <th>start_station_latitude</th>\n",
       "      <th>start_station_longitude</th>\n",
       "      <th>end_station_id</th>\n",
       "      <th>end_station_name</th>\n",
       "      <th>end_station_latitude</th>\n",
       "      <th>end_station_longitude</th>\n",
       "      <th>bike_id</th>\n",
       "      <th>user_type</th>\n",
       "      <th>member_birth_year</th>\n",
       "      <th>member_gender</th>\n",
       "      <th>bike_share_for_all_trip</th>\n",
       "    </tr>\n",
       "  </thead>\n",
       "  <tbody>\n",
       "    <tr>\n",
       "      <th>0</th>\n",
       "      <td>0</td>\n",
       "      <td>598</td>\n",
       "      <td>2018-02-28 23:59:47.0970</td>\n",
       "      <td>2018-03-01 00:09:45.1870</td>\n",
       "      <td>284.0</td>\n",
       "      <td>Yerba Buena Center for the Arts (Howard St at ...</td>\n",
       "      <td>37.784872</td>\n",
       "      <td>-122.400876</td>\n",
       "      <td>114.0</td>\n",
       "      <td>Rhode Island St at 17th St</td>\n",
       "      <td>37.764478</td>\n",
       "      <td>-122.402570</td>\n",
       "      <td>1035</td>\n",
       "      <td>Subscriber</td>\n",
       "      <td>1988.0</td>\n",
       "      <td>Male</td>\n",
       "      <td>No</td>\n",
       "    </tr>\n",
       "    <tr>\n",
       "      <th>1</th>\n",
       "      <td>1</td>\n",
       "      <td>943</td>\n",
       "      <td>2018-02-28 23:21:16.4950</td>\n",
       "      <td>2018-02-28 23:36:59.9740</td>\n",
       "      <td>6.0</td>\n",
       "      <td>The Embarcadero at Sansome St</td>\n",
       "      <td>37.804770</td>\n",
       "      <td>-122.403234</td>\n",
       "      <td>324.0</td>\n",
       "      <td>Union Square (Powell St at Post St)</td>\n",
       "      <td>37.788300</td>\n",
       "      <td>-122.408531</td>\n",
       "      <td>1673</td>\n",
       "      <td>Customer</td>\n",
       "      <td>1987.0</td>\n",
       "      <td>Male</td>\n",
       "      <td>No</td>\n",
       "    </tr>\n",
       "    <tr>\n",
       "      <th>2</th>\n",
       "      <td>2</td>\n",
       "      <td>18587</td>\n",
       "      <td>2018-02-28 18:20:55.1900</td>\n",
       "      <td>2018-02-28 23:30:42.9250</td>\n",
       "      <td>93.0</td>\n",
       "      <td>4th St at Mission Bay Blvd S</td>\n",
       "      <td>37.770407</td>\n",
       "      <td>-122.391198</td>\n",
       "      <td>15.0</td>\n",
       "      <td>San Francisco Ferry Building (Harry Bridges Pl...</td>\n",
       "      <td>37.795392</td>\n",
       "      <td>-122.394203</td>\n",
       "      <td>3498</td>\n",
       "      <td>Customer</td>\n",
       "      <td>1986.0</td>\n",
       "      <td>Female</td>\n",
       "      <td>No</td>\n",
       "    </tr>\n",
       "    <tr>\n",
       "      <th>3</th>\n",
       "      <td>3</td>\n",
       "      <td>18558</td>\n",
       "      <td>2018-02-28 18:20:53.6210</td>\n",
       "      <td>2018-02-28 23:30:12.4500</td>\n",
       "      <td>93.0</td>\n",
       "      <td>4th St at Mission Bay Blvd S</td>\n",
       "      <td>37.770407</td>\n",
       "      <td>-122.391198</td>\n",
       "      <td>15.0</td>\n",
       "      <td>San Francisco Ferry Building (Harry Bridges Pl...</td>\n",
       "      <td>37.795392</td>\n",
       "      <td>-122.394203</td>\n",
       "      <td>3129</td>\n",
       "      <td>Customer</td>\n",
       "      <td>1981.0</td>\n",
       "      <td>Male</td>\n",
       "      <td>No</td>\n",
       "    </tr>\n",
       "    <tr>\n",
       "      <th>4</th>\n",
       "      <td>4</td>\n",
       "      <td>885</td>\n",
       "      <td>2018-02-28 23:15:12.8580</td>\n",
       "      <td>2018-02-28 23:29:58.6080</td>\n",
       "      <td>308.0</td>\n",
       "      <td>San Pedro Square</td>\n",
       "      <td>37.336802</td>\n",
       "      <td>-121.894090</td>\n",
       "      <td>297.0</td>\n",
       "      <td>Locust St at Grant St</td>\n",
       "      <td>37.322980</td>\n",
       "      <td>-121.887931</td>\n",
       "      <td>1839</td>\n",
       "      <td>Subscriber</td>\n",
       "      <td>1976.0</td>\n",
       "      <td>Female</td>\n",
       "      <td>Yes</td>\n",
       "    </tr>\n",
       "  </tbody>\n",
       "</table>\n",
       "</div>"
      ],
      "text/plain": [
       "   Unnamed: 0  duration_sec                start_time  \\\n",
       "0           0           598  2018-02-28 23:59:47.0970   \n",
       "1           1           943  2018-02-28 23:21:16.4950   \n",
       "2           2         18587  2018-02-28 18:20:55.1900   \n",
       "3           3         18558  2018-02-28 18:20:53.6210   \n",
       "4           4           885  2018-02-28 23:15:12.8580   \n",
       "\n",
       "                   end_time  start_station_id  \\\n",
       "0  2018-03-01 00:09:45.1870             284.0   \n",
       "1  2018-02-28 23:36:59.9740               6.0   \n",
       "2  2018-02-28 23:30:42.9250              93.0   \n",
       "3  2018-02-28 23:30:12.4500              93.0   \n",
       "4  2018-02-28 23:29:58.6080             308.0   \n",
       "\n",
       "                                  start_station_name  start_station_latitude  \\\n",
       "0  Yerba Buena Center for the Arts (Howard St at ...               37.784872   \n",
       "1                      The Embarcadero at Sansome St               37.804770   \n",
       "2                       4th St at Mission Bay Blvd S               37.770407   \n",
       "3                       4th St at Mission Bay Blvd S               37.770407   \n",
       "4                                   San Pedro Square               37.336802   \n",
       "\n",
       "   start_station_longitude  end_station_id  \\\n",
       "0              -122.400876           114.0   \n",
       "1              -122.403234           324.0   \n",
       "2              -122.391198            15.0   \n",
       "3              -122.391198            15.0   \n",
       "4              -121.894090           297.0   \n",
       "\n",
       "                                    end_station_name  end_station_latitude  \\\n",
       "0                         Rhode Island St at 17th St             37.764478   \n",
       "1                Union Square (Powell St at Post St)             37.788300   \n",
       "2  San Francisco Ferry Building (Harry Bridges Pl...             37.795392   \n",
       "3  San Francisco Ferry Building (Harry Bridges Pl...             37.795392   \n",
       "4                              Locust St at Grant St             37.322980   \n",
       "\n",
       "   end_station_longitude  bike_id   user_type  member_birth_year  \\\n",
       "0            -122.402570     1035  Subscriber             1988.0   \n",
       "1            -122.408531     1673    Customer             1987.0   \n",
       "2            -122.394203     3498    Customer             1986.0   \n",
       "3            -122.394203     3129    Customer             1981.0   \n",
       "4            -121.887931     1839  Subscriber             1976.0   \n",
       "\n",
       "  member_gender bike_share_for_all_trip  \n",
       "0          Male                      No  \n",
       "1          Male                      No  \n",
       "2        Female                      No  \n",
       "3          Male                      No  \n",
       "4        Female                     Yes  "
      ]
     },
     "execution_count": 7,
     "metadata": {},
     "output_type": "execute_result"
    }
   ],
   "source": [
    "df_18.head()"
   ]
  },
  {
   "cell_type": "code",
   "execution_count": 8,
   "metadata": {},
   "outputs": [
    {
     "data": {
      "text/plain": [
       "(1028188    2018-01-01 00:01:53.8470\n",
       " Name: start_time, dtype: object, 802167    2018-12-31 23:59:12.0970\n",
       " Name: start_time, dtype: object)"
      ]
     },
     "execution_count": 8,
     "metadata": {},
     "output_type": "execute_result"
    }
   ],
   "source": [
    "df_18.start_time.sort_values().head(1), df_18.start_time.sort_values().tail(1)"
   ]
  },
  {
   "cell_type": "code",
   "execution_count": 9,
   "metadata": {},
   "outputs": [
    {
     "name": "stdout",
     "output_type": "stream",
     "text": [
      "<class 'pandas.core.frame.DataFrame'>\n",
      "RangeIndex: 1863721 entries, 0 to 1863720\n",
      "Data columns (total 17 columns):\n",
      "Unnamed: 0                 int64\n",
      "duration_sec               int64\n",
      "start_time                 object\n",
      "end_time                   object\n",
      "start_station_id           float64\n",
      "start_station_name         object\n",
      "start_station_latitude     float64\n",
      "start_station_longitude    float64\n",
      "end_station_id             float64\n",
      "end_station_name           object\n",
      "end_station_latitude       float64\n",
      "end_station_longitude      float64\n",
      "bike_id                    int64\n",
      "user_type                  object\n",
      "member_birth_year          float64\n",
      "member_gender              object\n",
      "bike_share_for_all_trip    object\n",
      "dtypes: float64(7), int64(3), object(7)\n",
      "memory usage: 241.7+ MB\n"
     ]
    }
   ],
   "source": [
    "df_18.info()"
   ]
  },
  {
   "cell_type": "code",
   "execution_count": 10,
   "metadata": {},
   "outputs": [
    {
     "data": {
      "text/plain": [
       "Unnamed: 0                  201458\n",
       "duration_sec                 16709\n",
       "start_time                 1863584\n",
       "end_time                   1863610\n",
       "start_station_id               331\n",
       "start_station_name             348\n",
       "start_station_latitude         369\n",
       "start_station_longitude        370\n",
       "end_station_id                 331\n",
       "end_station_name               348\n",
       "end_station_latitude           370\n",
       "end_station_longitude          371\n",
       "bike_id                       5054\n",
       "user_type                        2\n",
       "member_birth_year               86\n",
       "member_gender                    3\n",
       "bike_share_for_all_trip          2\n",
       "dtype: int64"
      ]
     },
     "execution_count": 10,
     "metadata": {},
     "output_type": "execute_result"
    }
   ],
   "source": [
    "df_18.nunique()"
   ]
  },
  {
   "cell_type": "markdown",
   "metadata": {},
   "source": [
    "**Question: \n",
    "According to the above information, there are 11,771 null values of start/end stations ids and names, so I further check which stations they are to try to find the reason and check whether they will make the analysis in accurate.**"
   ]
  },
  {
   "cell_type": "code",
   "execution_count": 11,
   "metadata": {},
   "outputs": [
    {
     "data": {
      "text/plain": [
       "Unnamed: 0                 1863721\n",
       "duration_sec               1863721\n",
       "start_time                 1863721\n",
       "end_time                   1863721\n",
       "start_station_id           1851950\n",
       "start_station_name         1851950\n",
       "start_station_latitude     1863721\n",
       "start_station_longitude    1863721\n",
       "end_station_id             1851950\n",
       "end_station_name           1851950\n",
       "end_station_latitude       1863721\n",
       "end_station_longitude      1863721\n",
       "bike_id                    1863721\n",
       "user_type                  1863721\n",
       "member_birth_year          1753003\n",
       "member_gender              1753354\n",
       "bike_share_for_all_trip    1863721\n",
       "dtype: int64"
      ]
     },
     "execution_count": 11,
     "metadata": {},
     "output_type": "execute_result"
    }
   ],
   "source": [
    "df_18.count()"
   ]
  },
  {
   "cell_type": "code",
   "execution_count": 12,
   "metadata": {},
   "outputs": [
    {
     "data": {
      "text/html": [
       "<div>\n",
       "<style scoped>\n",
       "    .dataframe tbody tr th:only-of-type {\n",
       "        vertical-align: middle;\n",
       "    }\n",
       "\n",
       "    .dataframe tbody tr th {\n",
       "        vertical-align: top;\n",
       "    }\n",
       "\n",
       "    .dataframe thead th {\n",
       "        text-align: right;\n",
       "    }\n",
       "</style>\n",
       "<table border=\"1\" class=\"dataframe\">\n",
       "  <thead>\n",
       "    <tr style=\"text-align: right;\">\n",
       "      <th></th>\n",
       "      <th>Unnamed: 0</th>\n",
       "      <th>duration_sec</th>\n",
       "      <th>start_time</th>\n",
       "      <th>end_time</th>\n",
       "      <th>start_station_id</th>\n",
       "      <th>start_station_name</th>\n",
       "      <th>start_station_latitude</th>\n",
       "      <th>start_station_longitude</th>\n",
       "      <th>end_station_id</th>\n",
       "      <th>end_station_name</th>\n",
       "      <th>end_station_latitude</th>\n",
       "      <th>end_station_longitude</th>\n",
       "      <th>bike_id</th>\n",
       "      <th>user_type</th>\n",
       "      <th>member_birth_year</th>\n",
       "      <th>member_gender</th>\n",
       "      <th>bike_share_for_all_trip</th>\n",
       "    </tr>\n",
       "  </thead>\n",
       "  <tbody>\n",
       "    <tr>\n",
       "      <th>106718</th>\n",
       "      <td>0</td>\n",
       "      <td>79489</td>\n",
       "      <td>2018-11-30 13:40:32.7690</td>\n",
       "      <td>2018-12-01 11:45:21.9720</td>\n",
       "      <td>NaN</td>\n",
       "      <td>NaN</td>\n",
       "      <td>37.42</td>\n",
       "      <td>-121.94</td>\n",
       "      <td>NaN</td>\n",
       "      <td>NaN</td>\n",
       "      <td>37.41</td>\n",
       "      <td>-121.94</td>\n",
       "      <td>4105</td>\n",
       "      <td>Customer</td>\n",
       "      <td>1982.0</td>\n",
       "      <td>Female</td>\n",
       "      <td>No</td>\n",
       "    </tr>\n",
       "    <tr>\n",
       "      <th>106976</th>\n",
       "      <td>258</td>\n",
       "      <td>392</td>\n",
       "      <td>2018-11-30 21:05:43.9400</td>\n",
       "      <td>2018-11-30 21:12:16.1520</td>\n",
       "      <td>NaN</td>\n",
       "      <td>NaN</td>\n",
       "      <td>37.41</td>\n",
       "      <td>-121.95</td>\n",
       "      <td>NaN</td>\n",
       "      <td>NaN</td>\n",
       "      <td>37.41</td>\n",
       "      <td>-121.94</td>\n",
       "      <td>4181</td>\n",
       "      <td>Subscriber</td>\n",
       "      <td>1987.0</td>\n",
       "      <td>Male</td>\n",
       "      <td>No</td>\n",
       "    </tr>\n",
       "    <tr>\n",
       "      <th>107137</th>\n",
       "      <td>419</td>\n",
       "      <td>366</td>\n",
       "      <td>2018-11-30 20:07:04.5700</td>\n",
       "      <td>2018-11-30 20:13:10.5990</td>\n",
       "      <td>NaN</td>\n",
       "      <td>NaN</td>\n",
       "      <td>37.41</td>\n",
       "      <td>-121.94</td>\n",
       "      <td>NaN</td>\n",
       "      <td>NaN</td>\n",
       "      <td>37.41</td>\n",
       "      <td>-121.95</td>\n",
       "      <td>4181</td>\n",
       "      <td>Subscriber</td>\n",
       "      <td>1987.0</td>\n",
       "      <td>Male</td>\n",
       "      <td>No</td>\n",
       "    </tr>\n",
       "    <tr>\n",
       "      <th>107264</th>\n",
       "      <td>546</td>\n",
       "      <td>351</td>\n",
       "      <td>2018-11-30 19:27:46.8680</td>\n",
       "      <td>2018-11-30 19:33:38.4550</td>\n",
       "      <td>NaN</td>\n",
       "      <td>NaN</td>\n",
       "      <td>37.41</td>\n",
       "      <td>-121.95</td>\n",
       "      <td>NaN</td>\n",
       "      <td>NaN</td>\n",
       "      <td>37.41</td>\n",
       "      <td>-121.96</td>\n",
       "      <td>4157</td>\n",
       "      <td>Subscriber</td>\n",
       "      <td>1977.0</td>\n",
       "      <td>Male</td>\n",
       "      <td>No</td>\n",
       "    </tr>\n",
       "    <tr>\n",
       "      <th>107593</th>\n",
       "      <td>875</td>\n",
       "      <td>309</td>\n",
       "      <td>2018-11-30 18:37:23.5710</td>\n",
       "      <td>2018-11-30 18:42:33.2340</td>\n",
       "      <td>NaN</td>\n",
       "      <td>NaN</td>\n",
       "      <td>37.38</td>\n",
       "      <td>-121.94</td>\n",
       "      <td>NaN</td>\n",
       "      <td>NaN</td>\n",
       "      <td>37.38</td>\n",
       "      <td>-121.93</td>\n",
       "      <td>4147</td>\n",
       "      <td>Subscriber</td>\n",
       "      <td>1994.0</td>\n",
       "      <td>Male</td>\n",
       "      <td>Yes</td>\n",
       "    </tr>\n",
       "  </tbody>\n",
       "</table>\n",
       "</div>"
      ],
      "text/plain": [
       "        Unnamed: 0  duration_sec                start_time  \\\n",
       "106718           0         79489  2018-11-30 13:40:32.7690   \n",
       "106976         258           392  2018-11-30 21:05:43.9400   \n",
       "107137         419           366  2018-11-30 20:07:04.5700   \n",
       "107264         546           351  2018-11-30 19:27:46.8680   \n",
       "107593         875           309  2018-11-30 18:37:23.5710   \n",
       "\n",
       "                        end_time  start_station_id start_station_name  \\\n",
       "106718  2018-12-01 11:45:21.9720               NaN                NaN   \n",
       "106976  2018-11-30 21:12:16.1520               NaN                NaN   \n",
       "107137  2018-11-30 20:13:10.5990               NaN                NaN   \n",
       "107264  2018-11-30 19:33:38.4550               NaN                NaN   \n",
       "107593  2018-11-30 18:42:33.2340               NaN                NaN   \n",
       "\n",
       "        start_station_latitude  start_station_longitude  end_station_id  \\\n",
       "106718                   37.42                  -121.94             NaN   \n",
       "106976                   37.41                  -121.95             NaN   \n",
       "107137                   37.41                  -121.94             NaN   \n",
       "107264                   37.41                  -121.95             NaN   \n",
       "107593                   37.38                  -121.94             NaN   \n",
       "\n",
       "       end_station_name  end_station_latitude  end_station_longitude  bike_id  \\\n",
       "106718              NaN                 37.41                -121.94     4105   \n",
       "106976              NaN                 37.41                -121.94     4181   \n",
       "107137              NaN                 37.41                -121.95     4181   \n",
       "107264              NaN                 37.41                -121.96     4157   \n",
       "107593              NaN                 37.38                -121.93     4147   \n",
       "\n",
       "         user_type  member_birth_year member_gender bike_share_for_all_trip  \n",
       "106718    Customer             1982.0        Female                      No  \n",
       "106976  Subscriber             1987.0          Male                      No  \n",
       "107137  Subscriber             1987.0          Male                      No  \n",
       "107264  Subscriber             1977.0          Male                      No  \n",
       "107593  Subscriber             1994.0          Male                     Yes  "
      ]
     },
     "execution_count": 12,
     "metadata": {},
     "output_type": "execute_result"
    }
   ],
   "source": [
    "df_18[df_18['start_station_id'].isnull() == True].head()"
   ]
  },
  {
   "cell_type": "code",
   "execution_count": 13,
   "metadata": {},
   "outputs": [
    {
     "data": {
      "text/plain": [
       "array([37.42, 37.41, 37.38, 37.4 , 37.39, 37.43, 37.34, 37.33, 37.32,\n",
       "       37.37, 37.36, 45.51, 37.35, 44.95, 40.66, 37.45, 45.5 , 37.44])"
      ]
     },
     "execution_count": 13,
     "metadata": {},
     "output_type": "execute_result"
    }
   ],
   "source": [
    "df_18[df_18['start_station_id'].isnull() == True].start_station_latitude.unique()"
   ]
  },
  {
   "cell_type": "markdown",
   "metadata": {},
   "source": [
    "**Answer:\n",
    "It appears that the missing value of station id and station names are all in San Jose. Despite no value of station id and name, there are still longtitude and latitude to distinguish the location. So I am not going to remove the null values.**"
   ]
  },
  {
   "cell_type": "markdown",
   "metadata": {},
   "source": [
    "## Wrangle Data"
   ]
  },
  {
   "cell_type": "markdown",
   "metadata": {},
   "source": [
    "#### 1. Convert member birthday into the age format"
   ]
  },
  {
   "cell_type": "code",
   "execution_count": 14,
   "metadata": {},
   "outputs": [],
   "source": [
    "#Code\n",
    "df_18['member_age'] = 2019 - df_18['member_birth_year'].fillna(0).astype(int)"
   ]
  },
  {
   "cell_type": "code",
   "execution_count": 15,
   "metadata": {
    "scrolled": true
   },
   "outputs": [
    {
     "data": {
      "text/html": [
       "<div>\n",
       "<style scoped>\n",
       "    .dataframe tbody tr th:only-of-type {\n",
       "        vertical-align: middle;\n",
       "    }\n",
       "\n",
       "    .dataframe tbody tr th {\n",
       "        vertical-align: top;\n",
       "    }\n",
       "\n",
       "    .dataframe thead th {\n",
       "        text-align: right;\n",
       "    }\n",
       "</style>\n",
       "<table border=\"1\" class=\"dataframe\">\n",
       "  <thead>\n",
       "    <tr style=\"text-align: right;\">\n",
       "      <th></th>\n",
       "      <th>Unnamed: 0</th>\n",
       "      <th>duration_sec</th>\n",
       "      <th>start_time</th>\n",
       "      <th>end_time</th>\n",
       "      <th>start_station_id</th>\n",
       "      <th>start_station_name</th>\n",
       "      <th>start_station_latitude</th>\n",
       "      <th>start_station_longitude</th>\n",
       "      <th>end_station_id</th>\n",
       "      <th>end_station_name</th>\n",
       "      <th>end_station_latitude</th>\n",
       "      <th>end_station_longitude</th>\n",
       "      <th>bike_id</th>\n",
       "      <th>user_type</th>\n",
       "      <th>member_birth_year</th>\n",
       "      <th>member_gender</th>\n",
       "      <th>bike_share_for_all_trip</th>\n",
       "      <th>member_age</th>\n",
       "    </tr>\n",
       "  </thead>\n",
       "  <tbody>\n",
       "    <tr>\n",
       "      <th>0</th>\n",
       "      <td>0</td>\n",
       "      <td>598</td>\n",
       "      <td>2018-02-28 23:59:47.0970</td>\n",
       "      <td>2018-03-01 00:09:45.1870</td>\n",
       "      <td>284.0</td>\n",
       "      <td>Yerba Buena Center for the Arts (Howard St at ...</td>\n",
       "      <td>37.784872</td>\n",
       "      <td>-122.400876</td>\n",
       "      <td>114.0</td>\n",
       "      <td>Rhode Island St at 17th St</td>\n",
       "      <td>37.764478</td>\n",
       "      <td>-122.40257</td>\n",
       "      <td>1035</td>\n",
       "      <td>Subscriber</td>\n",
       "      <td>1988.0</td>\n",
       "      <td>Male</td>\n",
       "      <td>No</td>\n",
       "      <td>31</td>\n",
       "    </tr>\n",
       "  </tbody>\n",
       "</table>\n",
       "</div>"
      ],
      "text/plain": [
       "   Unnamed: 0  duration_sec                start_time  \\\n",
       "0           0           598  2018-02-28 23:59:47.0970   \n",
       "\n",
       "                   end_time  start_station_id  \\\n",
       "0  2018-03-01 00:09:45.1870             284.0   \n",
       "\n",
       "                                  start_station_name  start_station_latitude  \\\n",
       "0  Yerba Buena Center for the Arts (Howard St at ...               37.784872   \n",
       "\n",
       "   start_station_longitude  end_station_id            end_station_name  \\\n",
       "0              -122.400876           114.0  Rhode Island St at 17th St   \n",
       "\n",
       "   end_station_latitude  end_station_longitude  bike_id   user_type  \\\n",
       "0             37.764478             -122.40257     1035  Subscriber   \n",
       "\n",
       "   member_birth_year member_gender bike_share_for_all_trip  member_age  \n",
       "0             1988.0          Male                      No          31  "
      ]
     },
     "execution_count": 15,
     "metadata": {},
     "output_type": "execute_result"
    }
   ],
   "source": [
    "#Test\n",
    "df_18.head(1)"
   ]
  },
  {
   "cell_type": "markdown",
   "metadata": {},
   "source": [
    "**Note: But there are null value of birth year in the data, so we need to ignore the value when making plot.**"
   ]
  },
  {
   "cell_type": "code",
   "execution_count": 16,
   "metadata": {},
   "outputs": [
    {
     "data": {
      "text/plain": [
       "110718"
      ]
     },
     "execution_count": 16,
     "metadata": {},
     "output_type": "execute_result"
    }
   ],
   "source": [
    "#Code\n",
    "#Step1: Process birth year with NaN value, which is 110718 in total\n",
    "df_18[df_18.member_birth_year.isnull()].bike_id.count()"
   ]
  },
  {
   "cell_type": "markdown",
   "metadata": {},
   "source": [
    "#### 2. Convert time data into the formats of time, day, and month "
   ]
  },
  {
   "cell_type": "code",
   "execution_count": 17,
   "metadata": {
    "slideshow": {
     "slide_type": "subslide"
    }
   },
   "outputs": [],
   "source": [
    "#Code\n",
    "from datetime import datetime, timedelta\n",
    "\n",
    "df_18['start_time'] = pd.to_datetime(df_18['start_time'])\n",
    "df_18['time'] = df_18['start_time'].apply(lambda t: t.strftime('%H'))\n",
    "df_18['day'] = df_18['start_time'].apply(lambda t: t.strftime('%A'))\n",
    "df_18['month'] = df_18['start_time'].apply(lambda t: t.strftime('%B'))"
   ]
  },
  {
   "cell_type": "code",
   "execution_count": 18,
   "metadata": {
    "scrolled": true,
    "slideshow": {
     "slide_type": "subslide"
    }
   },
   "outputs": [
    {
     "data": {
      "text/html": [
       "<div>\n",
       "<style scoped>\n",
       "    .dataframe tbody tr th:only-of-type {\n",
       "        vertical-align: middle;\n",
       "    }\n",
       "\n",
       "    .dataframe tbody tr th {\n",
       "        vertical-align: top;\n",
       "    }\n",
       "\n",
       "    .dataframe thead th {\n",
       "        text-align: right;\n",
       "    }\n",
       "</style>\n",
       "<table border=\"1\" class=\"dataframe\">\n",
       "  <thead>\n",
       "    <tr style=\"text-align: right;\">\n",
       "      <th></th>\n",
       "      <th>Unnamed: 0</th>\n",
       "      <th>duration_sec</th>\n",
       "      <th>start_time</th>\n",
       "      <th>end_time</th>\n",
       "      <th>start_station_id</th>\n",
       "      <th>start_station_name</th>\n",
       "      <th>start_station_latitude</th>\n",
       "      <th>start_station_longitude</th>\n",
       "      <th>end_station_id</th>\n",
       "      <th>end_station_name</th>\n",
       "      <th>...</th>\n",
       "      <th>end_station_longitude</th>\n",
       "      <th>bike_id</th>\n",
       "      <th>user_type</th>\n",
       "      <th>member_birth_year</th>\n",
       "      <th>member_gender</th>\n",
       "      <th>bike_share_for_all_trip</th>\n",
       "      <th>member_age</th>\n",
       "      <th>time</th>\n",
       "      <th>day</th>\n",
       "      <th>month</th>\n",
       "    </tr>\n",
       "  </thead>\n",
       "  <tbody>\n",
       "    <tr>\n",
       "      <th>0</th>\n",
       "      <td>0</td>\n",
       "      <td>598</td>\n",
       "      <td>2018-02-28 23:59:47.097</td>\n",
       "      <td>2018-03-01 00:09:45.1870</td>\n",
       "      <td>284.0</td>\n",
       "      <td>Yerba Buena Center for the Arts (Howard St at ...</td>\n",
       "      <td>37.784872</td>\n",
       "      <td>-122.400876</td>\n",
       "      <td>114.0</td>\n",
       "      <td>Rhode Island St at 17th St</td>\n",
       "      <td>...</td>\n",
       "      <td>-122.402570</td>\n",
       "      <td>1035</td>\n",
       "      <td>Subscriber</td>\n",
       "      <td>1988.0</td>\n",
       "      <td>Male</td>\n",
       "      <td>No</td>\n",
       "      <td>31</td>\n",
       "      <td>23</td>\n",
       "      <td>Wednesday</td>\n",
       "      <td>February</td>\n",
       "    </tr>\n",
       "    <tr>\n",
       "      <th>1</th>\n",
       "      <td>1</td>\n",
       "      <td>943</td>\n",
       "      <td>2018-02-28 23:21:16.495</td>\n",
       "      <td>2018-02-28 23:36:59.9740</td>\n",
       "      <td>6.0</td>\n",
       "      <td>The Embarcadero at Sansome St</td>\n",
       "      <td>37.804770</td>\n",
       "      <td>-122.403234</td>\n",
       "      <td>324.0</td>\n",
       "      <td>Union Square (Powell St at Post St)</td>\n",
       "      <td>...</td>\n",
       "      <td>-122.408531</td>\n",
       "      <td>1673</td>\n",
       "      <td>Customer</td>\n",
       "      <td>1987.0</td>\n",
       "      <td>Male</td>\n",
       "      <td>No</td>\n",
       "      <td>32</td>\n",
       "      <td>23</td>\n",
       "      <td>Wednesday</td>\n",
       "      <td>February</td>\n",
       "    </tr>\n",
       "  </tbody>\n",
       "</table>\n",
       "<p>2 rows × 21 columns</p>\n",
       "</div>"
      ],
      "text/plain": [
       "   Unnamed: 0  duration_sec              start_time                  end_time  \\\n",
       "0           0           598 2018-02-28 23:59:47.097  2018-03-01 00:09:45.1870   \n",
       "1           1           943 2018-02-28 23:21:16.495  2018-02-28 23:36:59.9740   \n",
       "\n",
       "   start_station_id                                 start_station_name  \\\n",
       "0             284.0  Yerba Buena Center for the Arts (Howard St at ...   \n",
       "1               6.0                      The Embarcadero at Sansome St   \n",
       "\n",
       "   start_station_latitude  start_station_longitude  end_station_id  \\\n",
       "0               37.784872              -122.400876           114.0   \n",
       "1               37.804770              -122.403234           324.0   \n",
       "\n",
       "                      end_station_name    ...     end_station_longitude  \\\n",
       "0           Rhode Island St at 17th St    ...               -122.402570   \n",
       "1  Union Square (Powell St at Post St)    ...               -122.408531   \n",
       "\n",
       "   bike_id   user_type member_birth_year  member_gender  \\\n",
       "0     1035  Subscriber            1988.0           Male   \n",
       "1     1673    Customer            1987.0           Male   \n",
       "\n",
       "  bike_share_for_all_trip member_age  time        day     month  \n",
       "0                      No         31    23  Wednesday  February  \n",
       "1                      No         32    23  Wednesday  February  \n",
       "\n",
       "[2 rows x 21 columns]"
      ]
     },
     "execution_count": 18,
     "metadata": {},
     "output_type": "execute_result"
    }
   ],
   "source": [
    "#Test\n",
    "df_18.head(2)"
   ]
  },
  {
   "cell_type": "markdown",
   "metadata": {
    "slideshow": {
     "slide_type": "slide"
    }
   },
   "source": [
    "## Data Visualization"
   ]
  },
  {
   "cell_type": "markdown",
   "metadata": {
    "slideshow": {
     "slide_type": "slide"
    }
   },
   "source": [
    "### Questions\n",
    "    \n",
    "    1: What is the number of customer and subscriber?\n",
    "    2: What is the number of gender of all members?\n",
    "    3: What is the number of age of all members?\n",
    "    4: When are most popular bike time for 20-40-year-old members in terms of month of a year?\n",
    "    5: When are most trips taken by user types in terms of time of day, day of the week, and month of a year?\n",
    "    6: What is the duration distribution of overall / customer / subscriber?\n",
    "    7: How long does the average trip take in overall / by customer and subscriber?\n",
    "    8: What is the number of overtime by subscriber and customer?\n",
    "    9: How many people return their bikes at the same station they start their trip?\n",
    "    10: How many stations in total and which stations are the most popular?\n",
    "\n",
    "\n"
   ]
  },
  {
   "cell_type": "markdown",
   "metadata": {
    "slideshow": {
     "slide_type": "slide"
    }
   },
   "source": [
    "#### Q1. What is the number of customer and subscriber?"
   ]
  },
  {
   "cell_type": "code",
   "execution_count": 19,
   "metadata": {
    "slideshow": {
     "slide_type": "subslide"
    }
   },
   "outputs": [
    {
     "data": {
      "text/plain": [
       "Subscriber    1583554\n",
       "Customer       280167\n",
       "Name: user_type, dtype: int64"
      ]
     },
     "execution_count": 19,
     "metadata": {},
     "output_type": "execute_result"
    }
   ],
   "source": [
    "df_18.user_type.value_counts()"
   ]
  },
  {
   "cell_type": "code",
   "execution_count": 58,
   "metadata": {
    "scrolled": true,
    "slideshow": {
     "slide_type": "subslide"
    }
   },
   "outputs": [
    {
     "data": {
      "image/png": "[encoded data removed]",
      "text/plain": [
       "<Figure size 432x288 with 1 Axes>"
      ]
     },
     "metadata": {},
     "output_type": "display_data"
    }
   ],
   "source": [
    "df_18.user_type.value_counts().plot(kind = 'pie', radius = 1.2)\n",
    "plt.title('The Number of Customer and Subscriber')\n",
    "plt.savefig('user_type01.png');"
   ]
  },
  {
   "cell_type": "markdown",
   "metadata": {},
   "source": [
    "**Finding:<br>\n",
    "Among 1,863,721 members, there are 1,583,554 subscribers (85%) and 280,167 customers (15%).**\n"
   ]
  },
  {
   "cell_type": "markdown",
   "metadata": {},
   "source": [
    "#### Q2: What is the number of gender of members?¶"
   ]
  },
  {
   "cell_type": "code",
   "execution_count": 21,
   "metadata": {},
   "outputs": [
    {
     "data": {
      "image/png": "[encoded data removed]",
      "text/plain": [
       "<Figure size 432x288 with 1 Axes>"
      ]
     },
     "metadata": {},
     "output_type": "display_data"
    },
    {
     "data": {
      "image/png": "[encoded data removed]",
      "text/plain": [
       "<Figure size 432x288 with 1 Axes>"
      ]
     },
     "metadata": {},
     "output_type": "display_data"
    }
   ],
   "source": [
    "s_gender = df_18.query('user_type == \"Subscriber\"').groupby('member_gender').bike_id.count()\n",
    "c_gender = df_18.query('user_type == \"Customer\"').groupby('member_gender').bike_id.count()\n",
    "labels = ['Female', 'Male', 'Other']\n",
    "\n",
    "def absolute_value(val):\n",
    "    a  = np.round(val/100*s_gender.sum(), 0)\n",
    "    return int(a)\n",
    "\n",
    "def absolute_value_c(val):\n",
    "    a  = np.round(val/100*c_gender.sum(), 0)\n",
    "    return int(a)\n",
    "\n",
    "plt.figure(0)\n",
    "plt.title('The Count by Gender of Subscriber')\n",
    "plt.pie(s_gender, labels = labels, autopct = absolute_value, radius = 1, colors=['yellow', 'orange', 'pink'])\n",
    "\n",
    "plt.figure(1)\n",
    "plt.title('The Count by Gender of Customer')\n",
    "plt.pie(c_gender, labels = labels, autopct = absolute_value_c, radius = 1, colors=['yellow', 'orange', 'pink'])\n",
    "\n",
    "plt.savefig('gender_01.png');"
   ]
  },
  {
   "cell_type": "markdown",
   "metadata": {},
   "source": [
    "**Finding:<br>\n",
    "In terms of the age, the males users are more than the female users in two user types. For customers, they have female (64,047) with the higher in-group ratio (31.7%) than the female of subscribers (374141, 24.1%).**"
   ]
  },
  {
   "cell_type": "markdown",
   "metadata": {},
   "source": [
    "#### Q3 What is the number of members' ages?"
   ]
  },
  {
   "cell_type": "code",
   "execution_count": 22,
   "metadata": {},
   "outputs": [
    {
     "data": {
      "text/plain": [
       "count    1.863721e+06\n",
       "mean     1.537213e+02\n",
       "std      4.688814e+02\n",
       "min      1.900000e+01\n",
       "25%      2.900000e+01\n",
       "50%      3.400000e+01\n",
       "75%      4.400000e+01\n",
       "max      2.019000e+03\n",
       "Name: member_age, dtype: float64"
      ]
     },
     "execution_count": 22,
     "metadata": {},
     "output_type": "execute_result"
    }
   ],
   "source": [
    "df_18.member_age.describe()"
   ]
  },
  {
   "cell_type": "code",
   "execution_count": 23,
   "metadata": {},
   "outputs": [
    {
     "data": {
      "text/plain": [
       "863635     2019\n",
       "1703113    2019\n",
       "1326292    2019\n",
       "1703117    2019\n",
       "395819     2019\n",
       "Name: member_age, dtype: int64"
      ]
     },
     "execution_count": 23,
     "metadata": {},
     "output_type": "execute_result"
    }
   ],
   "source": [
    "df_18.member_age.sort_values().tail()"
   ]
  },
  {
   "cell_type": "code",
   "execution_count": 73,
   "metadata": {
    "scrolled": true
   },
   "outputs": [
    {
     "data": {
      "image/png": "[encoded data removed]",
      "text/plain": [
       "<Figure size 720x288 with 1 Axes>"
      ]
     },
     "metadata": {
      "needs_background": "light"
     },
     "output_type": "display_data"
    }
   ],
   "source": [
    "plt.figure(figsize = [10,4])\n",
    "plt.hist(df_18.member_age, label = 'gender count')\n",
    "plt.legend(['age'])\n",
    "plt.xlabel(\"Age\")  \n",
    "plt.ylabel(\"Count\")\n",
    "plt.title('The Ages of All Members');"
   ]
  },
  {
   "cell_type": "markdown",
   "metadata": {},
   "source": [
    "**Note: Several age values which are 2019 should be removal in the plot.**"
   ]
  },
  {
   "cell_type": "code",
   "execution_count": 82,
   "metadata": {
    "scrolled": true
   },
   "outputs": [
    {
     "data": {
      "image/png": "[encoded data removed]",
      "text/plain": [
       "<Figure size 720x288 with 1 Axes>"
      ]
     },
     "metadata": {
      "needs_background": "light"
     },
     "output_type": "display_data"
    }
   ],
   "source": [
    "age = df_18.query('member_age < 2019')\n",
    "x = [0, 10, 20, 30, 40, 50, 60, 70, 80, 90, 100, 110, 120, 130, 140, 150]\n",
    "plt.figure(figsize = [10,4])\n",
    "plt.hist(age.member_age, bins = 40)\n",
    "plt.hist(age.query('user_type == \"Subscriber\"').member_age, bins = 40, alpha = .5)\n",
    "plt.hist(age.query('user_type == \"Customer\"').member_age, bins = 40, alpha = .7)\n",
    "plt.legend(['All', 'Subscriber', 'Customer'])\n",
    "plt.xticks(x)\n",
    "plt.xlabel('Age')\n",
    "plt.ylabel('Count')\n",
    "plt.title('The Age Distribution of Members')\n",
    "plt.savefig('age01.png');"
   ]
  },
  {
   "cell_type": "markdown",
   "metadata": {},
   "source": [
    "**Finding:<br>\n",
    "According to the above age distribution, most of members are 20-40 years old. For the subscriber, most of people are 25-30 and 32-35 years old.**"
   ]
  },
  {
   "cell_type": "markdown",
   "metadata": {},
   "source": [
    "#### Q4: When are most popular bike time for 20-40-year-old members in terms of month of a year?"
   ]
  },
  {
   "cell_type": "code",
   "execution_count": 77,
   "metadata": {},
   "outputs": [
    {
     "data": {
      "image/png": "[encoded data removed]",
      "text/plain": [
       "<Figure size 720x288 with 1 Axes>"
      ]
     },
     "metadata": {
      "needs_background": "light"
     },
     "output_type": "display_data"
    }
   ],
   "source": [
    "df_age_new = df_18.query('member_age >= 20 & member_age >= 40')\n",
    "plt.figure(figsize = [10, 4])\n",
    "order = ['January', 'February', 'March', 'April', 'May', 'June', 'July', 'August', \n",
    "         'September','October', 'November', 'December']\n",
    "df_age_new.groupby('month').bike_id.count().sort_values(ascending = False).plot(kind = 'bar', color = 'g')\n",
    "plt.legend(['count'])\n",
    "plt.xlabel('Month')\n",
    "plt.ylabel('Count')\n",
    "plt.title('Biking Month of 20-40-year-old Members')\n",
    "plt.savefig('Month_of_A_Year02.png');"
   ]
  },
  {
   "cell_type": "markdown",
   "metadata": {},
   "source": [
    "**Finding:<br>\n",
    "Delving into the 20-40-year-old group, they prefer to go to bike trip during summer, from Mau to August.**"
   ]
  },
  {
   "cell_type": "markdown",
   "metadata": {
    "slideshow": {
     "slide_type": "slide"
    }
   },
   "source": [
    "#### Q5: When are most popular bike time for two user types in terms of time of day, day of the week, and month of a year?"
   ]
  },
  {
   "cell_type": "markdown",
   "metadata": {
    "slideshow": {
     "slide_type": "subslide"
    }
   },
   "source": [
    "**Time of a Day**"
   ]
  },
  {
   "cell_type": "code",
   "execution_count": 27,
   "metadata": {
    "slideshow": {
     "slide_type": "subslide"
    }
   },
   "outputs": [],
   "source": [
    "def plot_user_time(df, x, y, z):\n",
    "    df1 = df.groupby([x, y])[z].count().reset_index().sort_values(by = z)\n",
    "    #plot\n",
    "    plt.figure(figsize = [10, 4])\n",
    "    sns.barplot(data = df1, x = x, y = z, hue = y);"
   ]
  },
  {
   "cell_type": "code",
   "execution_count": 28,
   "metadata": {
    "slideshow": {
     "slide_type": "subslide"
    }
   },
   "outputs": [
    {
     "data": {
      "image/png": "[encoded data removed]",
      "text/plain": [
       "<Figure size 720x288 with 1 Axes>"
      ]
     },
     "metadata": {
      "needs_background": "light"
     },
     "output_type": "display_data"
    }
   ],
   "source": [
    "plot_user_time(df_18, 'time', 'user_type', 'bike_id')\n",
    "plt.title('The Popular Time for Trips by Customer / Subscriber')\n",
    "plt.savefig('Time_of_A_Day01.png')"
   ]
  },
  {
   "cell_type": "markdown",
   "metadata": {},
   "source": [
    "**Finding:<br>\n",
    "Looking to user behavior through the time of a day, for subscribers, there are two prefer time segments they ride bikes, which are 7:00 - 9:00 and 16:00 - 18:00. While for customers, they have more consistent using time, and the peak is around 17:00.**"
   ]
  },
  {
   "cell_type": "markdown",
   "metadata": {
    "slideshow": {
     "slide_type": "subslide"
    }
   },
   "source": [
    "**Day of a Month**"
   ]
  },
  {
   "cell_type": "code",
   "execution_count": 29,
   "metadata": {
    "slideshow": {
     "slide_type": "subslide"
    }
   },
   "outputs": [
    {
     "data": {
      "image/png": "[encoded data removed]",
      "text/plain": [
       "<Figure size 720x288 with 1 Axes>"
      ]
     },
     "metadata": {
      "needs_background": "light"
     },
     "output_type": "display_data"
    }
   ],
   "source": [
    "plot_user_time(df_18, 'day', 'user_type', 'bike_id')\n",
    "plt.title('The Popular Day for Trips by Customer / Subscriber')\n",
    "plt.savefig('Day_of_A_Month01.png')"
   ]
  },
  {
   "cell_type": "markdown",
   "metadata": {},
   "source": [
    "**Finding:<br>\n",
    "In terms of the day of a month, subscribers often ride bikes during weekday, from Monday to Friday, while customers prefer to rider bike on weekends.**"
   ]
  },
  {
   "cell_type": "markdown",
   "metadata": {},
   "source": [
    "**Month of a Year**"
   ]
  },
  {
   "cell_type": "code",
   "execution_count": 30,
   "metadata": {},
   "outputs": [
    {
     "data": {
      "image/png": "[encoded data removed]",
      "text/plain": [
       "<Figure size 720x288 with 1 Axes>"
      ]
     },
     "metadata": {
      "needs_background": "light"
     },
     "output_type": "display_data"
    }
   ],
   "source": [
    "plot_user_time(df_18, 'month', 'user_type', 'bike_id')\n",
    "plt.title('The Popular Month for Trips by Customer / Subscriber')\n",
    "plt.savefig('Month_of_A_Year01.png')"
   ]
  },
  {
   "cell_type": "markdown",
   "metadata": {},
   "source": [
    "**Finding:<br>\n",
    "In terms of the month of a year, subscribers tend to ride bikes from summer to fall, especially on October and customers also use bike on summer more frequently.**"
   ]
  },
  {
   "cell_type": "markdown",
   "metadata": {
    "slideshow": {
     "slide_type": "slide"
    }
   },
   "source": [
    "#### Q6: What is the duration distribution of overall / customer / subscriber?"
   ]
  },
  {
   "cell_type": "code",
   "execution_count": 80,
   "metadata": {},
   "outputs": [
    {
     "data": {
      "image/png": "[encoded data removed]",
      "text/plain": [
       "<Figure size 720x288 with 1 Axes>"
      ]
     },
     "metadata": {
      "needs_background": "light"
     },
     "output_type": "display_data"
    }
   ],
   "source": [
    "all_duration = df_18['duration_sec']\n",
    "S_Duration = df_18.query('user_type == \"Subscriber\"').duration_sec\n",
    "C_Duration = df_18.query('user_type == \"Customer\"').duration_sec\n",
    "\n",
    "plt.figure(figsize = [10,4])\n",
    "plt.hist(all_duration, bins = 50)\n",
    "plt.hist(S_Duration, bins = 50, alpha = .7)\n",
    "plt.hist(C_Duration, bins = 50, alpha = .7)\n",
    "plt.title('The Trip Duration of Members')\n",
    "plt.legend(['All', 'Subscriber', 'Customer'])\n",
    "plt.xlabel('Duration')\n",
    "plt.ylabel('Count')\n",
    "plt.savefig('Durtion01.png');"
   ]
  },
  {
   "cell_type": "markdown",
   "metadata": {},
   "source": [
    "**Finding:<br>\n",
    "The majority trip duraton is located beloew 3000 second (50 min) probably because if users ride bike over 30 mins, they will be charged additional fee of using bikes.**"
   ]
  },
  {
   "cell_type": "code",
   "execution_count": 81,
   "metadata": {
    "slideshow": {
     "slide_type": "subslide"
    }
   },
   "outputs": [
    {
     "data": {
      "image/png": "[encoded data removed]",
      "text/plain": [
       "<Figure size 720x288 with 1 Axes>"
      ]
     },
     "metadata": {
      "needs_background": "light"
     },
     "output_type": "display_data"
    }
   ],
   "source": [
    "plt.figure(figsize = [10,4])\n",
    "plt.hist(df_18[df_18['duration_sec'] < 3000].duration_sec, bins = 50)\n",
    "plt.hist(S_Duration[S_Duration < 3000], bins = 50, alpha = .5)\n",
    "plt.hist(C_Duration[C_Duration < 3000], bins = 50, alpha = .7)\n",
    "plt.axvline(1800, color = 'g')\n",
    "plt.title('The Major Trip Duration of Members')\n",
    "plt.legend(['Overtime Line','All', 'Subscriber', 'Customer'])\n",
    "plt.xlabel('Duration')\n",
    "plt.ylabel('Count')\n",
    "plt.savefig('Durtion02.png');"
   ]
  },
  {
   "cell_type": "markdown",
   "metadata": {},
   "source": [
    "**Finding:<br>\n",
    "So let's look deeper into those who ride bikes under 3000 sec and plot the 30 min line to see how many people ride overtime. According to the above plot, most of people use bike within 5-10 minutes. They might only use bikes for the short-distance trip.**"
   ]
  },
  {
   "cell_type": "markdown",
   "metadata": {
    "slideshow": {
     "slide_type": "slide"
    }
   },
   "source": [
    "#### Q7: How long does the average trip take in overall / by customer and subscriber?"
   ]
  },
  {
   "cell_type": "code",
   "execution_count": 84,
   "metadata": {
    "scrolled": true,
    "slideshow": {
     "slide_type": "subslide"
    }
   },
   "outputs": [
    {
     "name": "stdout",
     "output_type": "stream",
     "text": [
      "The average time of trip in overall: 857.3025710393348\n",
      "\n",
      "Plot those whose duration is less than 3000 sec:\n"
     ]
    },
    {
     "data": {
      "image/png": "[encoded data removed]",
      "text/plain": [
       "<Figure size 720x288 with 1 Axes>"
      ]
     },
     "metadata": {
      "needs_background": "light"
     },
     "output_type": "display_data"
    }
   ],
   "source": [
    "print('The average time of trip in overall: ' + repr(df_18.duration_sec.mean()))\n",
    "print()\n",
    "print('Plot those whose duration is less than 3000 sec:')\n",
    "plt.figure(figsize = [10,4])\n",
    "sns.boxplot(df_18[df_18.duration_sec <3000].duration_sec)\n",
    "plt.title('The Average Time of Trip')\n",
    "plt.ylabel('All Member')\n",
    "plt.savefig('AvgTime01.png');"
   ]
  },
  {
   "cell_type": "code",
   "execution_count": 34,
   "metadata": {
    "scrolled": true,
    "slideshow": {
     "slide_type": "subslide"
    }
   },
   "outputs": [
    {
     "name": "stdout",
     "output_type": "stream",
     "text": [
      "The average time of trip for customers: 1922.7795279244165\n",
      "The average time of trip for subscribers: 668.7952750585076\n",
      "\n",
      "Plot those whose duration is less than 3000 sec:\n"
     ]
    },
    {
     "data": {
      "image/png": "[encoded data removed]",
      "text/plain": [
       "<Figure size 720x288 with 1 Axes>"
      ]
     },
     "metadata": {
      "needs_background": "light"
     },
     "output_type": "display_data"
    }
   ],
   "source": [
    "print('The average time of trip for customers: ' + repr(C_Duration.mean()))\n",
    "print('The average time of trip for subscribers: ' + repr(S_Duration.mean()))\n",
    "print()\n",
    "print('Plot those whose duration is less than 3000 sec:')\n",
    "plt.figure(figsize = [10,4])\n",
    "sns.boxplot( x = df_18[df_18.duration_sec <3000].duration_sec, y = df_18.user_type)\n",
    "plt.title('The Average Time of Trip by Customer / Subscriber')\n",
    "plt.savefig('AvgTime02.png');"
   ]
  },
  {
   "cell_type": "markdown",
   "metadata": {},
   "source": [
    "**Finding: <br>\n",
    "The average time of trip for customers: 1923 sec (32 min). The average time of trip for subscribers: 669 sec (11 min). So apparently, as opposed to subscribers, more customers have overtime ride partly due to the different charging mechnism for this group of users. They joined the membership program of GoBike, so they pay lower if they rider overtime.**"
   ]
  },
  {
   "cell_type": "markdown",
   "metadata": {
    "slideshow": {
     "slide_type": "slide"
    }
   },
   "source": [
    "#### Q8: What is the number of overtime by subscriber and customer?"
   ]
  },
  {
   "cell_type": "code",
   "execution_count": 35,
   "metadata": {
    "slideshow": {
     "slide_type": "subslide"
    }
   },
   "outputs": [
    {
     "name": "stdout",
     "output_type": "stream",
     "text": [
      "Overall:\n",
      "The number of those who use bike within 30 minutes: 1768534\n",
      "The number of those who use bike over 30 minutes: 95187\n",
      "\n",
      "Subscriber:\n",
      "The number of subscribers use bike within 30 minutes: 1542335\n",
      "The number of subscribers use bike over 30 minutes: 41219\n",
      "\n",
      "Customer:\n",
      "The number of customers use bike within 30 minutes: 226199\n",
      "The number of customers use bike over 30 minutes: 53968\n"
     ]
    }
   ],
   "source": [
    "print('Overall:')\n",
    "print('The number of those who use bike within 30 minutes: ' + repr(all_duration[all_duration <= 1800].count()))\n",
    "print('The number of those who use bike over 30 minutes: ' + repr(all_duration[all_duration > 1800].count()))\n",
    "print()\n",
    "print('Subscriber:')\n",
    "print('The number of subscribers use bike within 30 minutes: ' + repr(S_Duration[S_Duration <= 1800].count()))\n",
    "print('The number of subscribers use bike over 30 minutes: ' + repr(S_Duration[S_Duration > 1800].count()))\n",
    "print()\n",
    "print('Customer:')\n",
    "print('The number of customers use bike within 30 minutes: ' + repr(C_Duration[C_Duration <= 1800].count()))\n",
    "print('The number of customers use bike over 30 minutes: ' + repr(C_Duration[C_Duration > 1800].count()))"
   ]
  },
  {
   "cell_type": "code",
   "execution_count": 36,
   "metadata": {
    "slideshow": {
     "slide_type": "subslide"
    }
   },
   "outputs": [],
   "source": [
    "df1 = df_18[['duration_sec', 'user_type']]\n",
    "df3 = df1[df1['duration_sec'] <= 1800].groupby('user_type').count()\n",
    "df3.rename(columns = {'duration_sec': 'within 30 mins'}, inplace = True);\n",
    "df4 = df1[df1['duration_sec'] > 1800].groupby('user_type').count()\n",
    "df4.rename(columns = {'duration_sec': 'over 30 mins'}, inplace = True)\n"
   ]
  },
  {
   "cell_type": "code",
   "execution_count": 37,
   "metadata": {
    "slideshow": {
     "slide_type": "subslide"
    }
   },
   "outputs": [
    {
     "data": {
      "text/html": [
       "<div>\n",
       "<style scoped>\n",
       "    .dataframe tbody tr th:only-of-type {\n",
       "        vertical-align: middle;\n",
       "    }\n",
       "\n",
       "    .dataframe tbody tr th {\n",
       "        vertical-align: top;\n",
       "    }\n",
       "\n",
       "    .dataframe thead th {\n",
       "        text-align: right;\n",
       "    }\n",
       "</style>\n",
       "<table border=\"1\" class=\"dataframe\">\n",
       "  <thead>\n",
       "    <tr style=\"text-align: right;\">\n",
       "      <th></th>\n",
       "      <th>over 30 mins</th>\n",
       "      <th>within 30 mins</th>\n",
       "      <th>total</th>\n",
       "    </tr>\n",
       "    <tr>\n",
       "      <th>user_type</th>\n",
       "      <th></th>\n",
       "      <th></th>\n",
       "      <th></th>\n",
       "    </tr>\n",
       "  </thead>\n",
       "  <tbody>\n",
       "    <tr>\n",
       "      <th>Customer</th>\n",
       "      <td>53968</td>\n",
       "      <td>226199</td>\n",
       "      <td>280167</td>\n",
       "    </tr>\n",
       "    <tr>\n",
       "      <th>Subscriber</th>\n",
       "      <td>41219</td>\n",
       "      <td>1542335</td>\n",
       "      <td>1583554</td>\n",
       "    </tr>\n",
       "    <tr>\n",
       "      <th>Total</th>\n",
       "      <td>95187</td>\n",
       "      <td>1768534</td>\n",
       "      <td>1863721</td>\n",
       "    </tr>\n",
       "  </tbody>\n",
       "</table>\n",
       "</div>"
      ],
      "text/plain": [
       "            over 30 mins  within 30 mins    total\n",
       "user_type                                        \n",
       "Customer           53968          226199   280167\n",
       "Subscriber         41219         1542335  1583554\n",
       "Total              95187         1768534  1863721"
      ]
     },
     "execution_count": 37,
     "metadata": {},
     "output_type": "execute_result"
    }
   ],
   "source": [
    "df5 = df4.join(df3)\n",
    "df5['total'] = df5['within 30 mins'] + df5['over 30 mins']\n",
    "df5.loc['Total'] = df5.sum()\n",
    "df5"
   ]
  },
  {
   "cell_type": "code",
   "execution_count": 85,
   "metadata": {
    "scrolled": true,
    "slideshow": {
     "slide_type": "subslide"
    }
   },
   "outputs": [
    {
     "data": {
      "image/png": "[encoded data removed]",
      "text/plain": [
       "<Figure size 720x288 with 1 Axes>"
      ]
     },
     "metadata": {
      "needs_background": "light"
     },
     "output_type": "display_data"
    }
   ],
   "source": [
    "df5.plot(kind = 'bar', figsize = [10,4])\n",
    "plt.title('The Number of Overtime Users')\n",
    "plt.ylabel('count')\n",
    "plt.savefig('Overtime01.png');"
   ]
  },
  {
   "cell_type": "markdown",
   "metadata": {
    "slideshow": {
     "slide_type": "subslide"
    }
   },
   "source": [
    "**Overtime Percentage by User Type**"
   ]
  },
  {
   "cell_type": "code",
   "execution_count": 39,
   "metadata": {
    "slideshow": {
     "slide_type": "subslide"
    }
   },
   "outputs": [],
   "source": [
    "df6 = df5.copy()\n",
    "df6.drop('total', axis = 1, inplace = True)"
   ]
  },
  {
   "cell_type": "code",
   "execution_count": 40,
   "metadata": {
    "slideshow": {
     "slide_type": "subslide"
    }
   },
   "outputs": [],
   "source": [
    "df6.iloc[0,0] = df5.iloc[0,0] / df5.iloc[2,0]\n",
    "df6.iloc[1,0] = df5.iloc[1,0] / df5.iloc[2,0]\n",
    "df6.iloc[2,0] = df5.iloc[2,0] / df5.iloc[2,0]\n",
    "\n",
    "df6.iloc[0,1] = df5.iloc[0,1] / df5.iloc[2,1]\n",
    "df6.iloc[1,1] = df5.iloc[1,1] / df5.iloc[2,1]\n",
    "df6.iloc[2,1] = df5.iloc[2,1] / df5.iloc[2,1]"
   ]
  },
  {
   "cell_type": "code",
   "execution_count": 41,
   "metadata": {
    "slideshow": {
     "slide_type": "subslide"
    }
   },
   "outputs": [
    {
     "data": {
      "text/html": [
       "<div>\n",
       "<style scoped>\n",
       "    .dataframe tbody tr th:only-of-type {\n",
       "        vertical-align: middle;\n",
       "    }\n",
       "\n",
       "    .dataframe tbody tr th {\n",
       "        vertical-align: top;\n",
       "    }\n",
       "\n",
       "    .dataframe thead th {\n",
       "        text-align: right;\n",
       "    }\n",
       "</style>\n",
       "<table border=\"1\" class=\"dataframe\">\n",
       "  <thead>\n",
       "    <tr style=\"text-align: right;\">\n",
       "      <th></th>\n",
       "      <th>over 30 mins</th>\n",
       "      <th>within 30 mins</th>\n",
       "    </tr>\n",
       "    <tr>\n",
       "      <th>user_type</th>\n",
       "      <th></th>\n",
       "      <th></th>\n",
       "    </tr>\n",
       "  </thead>\n",
       "  <tbody>\n",
       "    <tr>\n",
       "      <th>Customer</th>\n",
       "      <td>0.566968</td>\n",
       "      <td>0.127902</td>\n",
       "    </tr>\n",
       "    <tr>\n",
       "      <th>Subscriber</th>\n",
       "      <td>0.433032</td>\n",
       "      <td>0.872098</td>\n",
       "    </tr>\n",
       "    <tr>\n",
       "      <th>Total</th>\n",
       "      <td>1.000000</td>\n",
       "      <td>1.000000</td>\n",
       "    </tr>\n",
       "  </tbody>\n",
       "</table>\n",
       "</div>"
      ],
      "text/plain": [
       "            over 30 mins  within 30 mins\n",
       "user_type                               \n",
       "Customer        0.566968        0.127902\n",
       "Subscriber      0.433032        0.872098\n",
       "Total           1.000000        1.000000"
      ]
     },
     "execution_count": 41,
     "metadata": {},
     "output_type": "execute_result"
    }
   ],
   "source": [
    "df6"
   ]
  },
  {
   "cell_type": "code",
   "execution_count": 87,
   "metadata": {
    "scrolled": true,
    "slideshow": {
     "slide_type": "subslide"
    }
   },
   "outputs": [
    {
     "data": {
      "image/png": "[encoded data removed]",
      "text/plain": [
       "<Figure size 720x288 with 1 Axes>"
      ]
     },
     "metadata": {
      "needs_background": "light"
     },
     "output_type": "display_data"
    }
   ],
   "source": [
    "df6.plot(kind = 'bar', figsize = [10,4])\n",
    "plt.title('The Percentage of Overtime Users')\n",
    "plt.ylabel('percentage of overtime users')\n",
    "plt.savefig('Overtime02.png');"
   ]
  },
  {
   "cell_type": "markdown",
   "metadata": {},
   "source": [
    "**Finding:<br>\n",
    "Nearly 56.7% customers ride bikes over 30 minutes. So consistent to the findings in the previous plots, it is more likely for customers to rider overtime due to their membership.**"
   ]
  },
  {
   "cell_type": "markdown",
   "metadata": {
    "slideshow": {
     "slide_type": "slide"
    }
   },
   "source": [
    "#### Q9: How many people return their bikes at the same station they start their trip?"
   ]
  },
  {
   "cell_type": "code",
   "execution_count": 43,
   "metadata": {
    "scrolled": true,
    "slideshow": {
     "slide_type": "subslide"
    }
   },
   "outputs": [
    {
     "name": "stdout",
     "output_type": "stream",
     "text": [
      "The number of users who return bike at the same station: 52041\n",
      "The number of users who return bike at different station: 1799909\n",
      "\n",
      "The number of customers who return bike at the same station: 23222\n",
      "The number of customers who return bike at different station: 253737\n",
      "\n",
      "The number of subscribers who return bike at the same station: 28819\n",
      "The number of subscribers who return bike at different station: 1546172\n"
     ]
    }
   ],
   "source": [
    "print('The number of users who return bike at the same station: ' + repr(df_18.query('start_station_name == end_station_name').start_station_id .count()))\n",
    "print('The number of users who return bike at different station: ' + repr(df_18.query('start_station_name != end_station_name').start_station_id .count()))\n",
    "print()\n",
    "print('The number of customers who return bike at the same station: ' + repr(df_18.query('start_station_name == end_station_name & user_type == \"Customer\"').start_station_id .count()))\n",
    "print('The number of customers who return bike at different station: ' + repr(df_18.query('start_station_name != end_station_name & user_type == \"Customer\"').start_station_id .count()))\n",
    "print()\n",
    "print('The number of subscribers who return bike at the same station: ' + repr(df_18.query('start_station_name == end_station_name & user_type == \"Subscriber\"').start_station_id .count()))\n",
    "print('The number of subscribers who return bike at different station: ' + repr(df_18.query('start_station_name != end_station_name & user_type == \"Subscriber\"').start_station_id .count()))\n",
    "\n"
   ]
  },
  {
   "cell_type": "code",
   "execution_count": 44,
   "metadata": {
    "slideshow": {
     "slide_type": "subslide"
    }
   },
   "outputs": [
    {
     "data": {
      "text/html": [
       "<div>\n",
       "<style scoped>\n",
       "    .dataframe tbody tr th:only-of-type {\n",
       "        vertical-align: middle;\n",
       "    }\n",
       "\n",
       "    .dataframe tbody tr th {\n",
       "        vertical-align: top;\n",
       "    }\n",
       "\n",
       "    .dataframe thead th {\n",
       "        text-align: right;\n",
       "    }\n",
       "</style>\n",
       "<table border=\"1\" class=\"dataframe\">\n",
       "  <thead>\n",
       "    <tr style=\"text-align: right;\">\n",
       "      <th></th>\n",
       "      <th>bike_id</th>\n",
       "    </tr>\n",
       "    <tr>\n",
       "      <th>user_type</th>\n",
       "      <th></th>\n",
       "    </tr>\n",
       "  </thead>\n",
       "  <tbody>\n",
       "    <tr>\n",
       "      <th>Customer</th>\n",
       "      <td>23222</td>\n",
       "    </tr>\n",
       "    <tr>\n",
       "      <th>Subscriber</th>\n",
       "      <td>28819</td>\n",
       "    </tr>\n",
       "  </tbody>\n",
       "</table>\n",
       "</div>"
      ],
      "text/plain": [
       "            bike_id\n",
       "user_type          \n",
       "Customer      23222\n",
       "Subscriber    28819"
      ]
     },
     "execution_count": 44,
     "metadata": {},
     "output_type": "execute_result"
    }
   ],
   "source": [
    "df_12 = df_18.query('start_station_name == end_station_name')[['user_type','bike_id']]\n",
    "df_13 = df_18.query('start_station_name != end_station_name')[['user_type','bike_id']]\n",
    "#one-way: pickup and dropoff at the same place\n",
    "df_12.groupby('user_type').count()"
   ]
  },
  {
   "cell_type": "code",
   "execution_count": 45,
   "metadata": {
    "slideshow": {
     "slide_type": "subslide"
    }
   },
   "outputs": [
    {
     "data": {
      "text/html": [
       "<div>\n",
       "<style scoped>\n",
       "    .dataframe tbody tr th:only-of-type {\n",
       "        vertical-align: middle;\n",
       "    }\n",
       "\n",
       "    .dataframe tbody tr th {\n",
       "        vertical-align: top;\n",
       "    }\n",
       "\n",
       "    .dataframe thead th {\n",
       "        text-align: right;\n",
       "    }\n",
       "</style>\n",
       "<table border=\"1\" class=\"dataframe\">\n",
       "  <thead>\n",
       "    <tr style=\"text-align: right;\">\n",
       "      <th></th>\n",
       "      <th>bike_id</th>\n",
       "    </tr>\n",
       "    <tr>\n",
       "      <th>user_type</th>\n",
       "      <th></th>\n",
       "    </tr>\n",
       "  </thead>\n",
       "  <tbody>\n",
       "    <tr>\n",
       "      <th>Customer</th>\n",
       "      <td>256945</td>\n",
       "    </tr>\n",
       "    <tr>\n",
       "      <th>Subscriber</th>\n",
       "      <td>1554735</td>\n",
       "    </tr>\n",
       "  </tbody>\n",
       "</table>\n",
       "</div>"
      ],
      "text/plain": [
       "            bike_id\n",
       "user_type          \n",
       "Customer     256945\n",
       "Subscriber  1554735"
      ]
     },
     "execution_count": 45,
     "metadata": {},
     "output_type": "execute_result"
    }
   ],
   "source": [
    "#pickup and dropoff at the different place\n",
    "df_13.groupby('user_type').count()"
   ]
  },
  {
   "cell_type": "code",
   "execution_count": 92,
   "metadata": {
    "slideshow": {
     "slide_type": "subslide"
    }
   },
   "outputs": [
    {
     "data": {
      "image/png": "[encoded data removed]",
      "text/plain": [
       "<Figure size 720x288 with 1 Axes>"
      ]
     },
     "metadata": {
      "needs_background": "light"
     },
     "output_type": "display_data"
    },
    {
     "data": {
      "image/png": "[encoded data removed]",
      "text/plain": [
       "<Figure size 720x288 with 1 Axes>"
      ]
     },
     "metadata": {
      "needs_background": "light"
     },
     "output_type": "display_data"
    }
   ],
   "source": [
    "df_12.groupby('user_type').count().plot(kind = 'bar', figsize = [10,4], legend = False, title = 'One-way Bike Rental')\n",
    "plt.ylabel('count')\n",
    "df_13.groupby('user_type').count().plot(kind = 'bar', figsize = [10,4], legend = False, title = 'Non-One-way Bike Rental')\n",
    "plt.ylabel('count')\n",
    "plt.savefig('OneWay01.png');\n"
   ]
  },
  {
   "cell_type": "markdown",
   "metadata": {},
   "source": [
    "**Finding:<br>\n",
    "Most of people choose to return bikes at the same station they rent the bikes, especially for the subscriber. Yet only look to one-way rental, it is more likely for customers to return their bike at the different station they rent the bike. Maybe it is because that customers tend to have long-distance trips, so it will be more convenient for them to return at the different stations.**"
   ]
  },
  {
   "cell_type": "markdown",
   "metadata": {
    "slideshow": {
     "slide_type": "slide"
    }
   },
   "source": [
    "#### Q10: How many stations in total? Which station is the most popular one?"
   ]
  },
  {
   "cell_type": "code",
   "execution_count": 100,
   "metadata": {
    "scrolled": true,
    "slideshow": {
     "slide_type": "subslide"
    }
   },
   "outputs": [
    {
     "name": "stdout",
     "output_type": "stream",
     "text": [
      "The total station number: 331\n"
     ]
    },
    {
     "data": {
      "image/png": "[encoded data removed]",
      "text/plain": [
       "<Figure size 720x432 with 1 Axes>"
      ]
     },
     "metadata": {
      "needs_background": "light"
     },
     "output_type": "display_data"
    }
   ],
   "source": [
    "print('The total station number: ' + repr(df_18['start_station_id'].nunique()))\n",
    "plt.figure(figsize = [10,6])\n",
    "plt.scatter(df_18['start_station_latitude'], df_18['start_station_longitude'])\n",
    "plt.title('The Locations of Bike Stations')\n",
    "plt.legend(['Bike Stations'])\n",
    "plt.xlabel('station latitude')\n",
    "plt.ylabel('station longitude')\n",
    "plt.savefig('Station01.png');"
   ]
  },
  {
   "cell_type": "markdown",
   "metadata": {},
   "source": [
    "**Filter out the docks in San Francisco Bay Area**"
   ]
  },
  {
   "cell_type": "code",
   "execution_count": 48,
   "metadata": {},
   "outputs": [],
   "source": [
    "max_longitude_sf = -122.3597\n",
    "min_longitude_sf = -122.5147\n",
    "max_latitude_sf = 37.8121\n",
    "min_latitude_sf = 37.7092"
   ]
  },
  {
   "cell_type": "code",
   "execution_count": 49,
   "metadata": {},
   "outputs": [
    {
     "data": {
      "text/plain": [
       "(37.80477, 37.72925213437004, -122.38565549254416, -122.473658)"
      ]
     },
     "execution_count": 49,
     "metadata": {},
     "output_type": "execute_result"
    }
   ],
   "source": [
    "start_lat = (df_18['start_station_latitude']>=min_latitude_sf) & (df_18['start_station_latitude']<=max_latitude_sf)\n",
    "end_lat = (df_18['end_station_latitude']>=min_latitude_sf) & (df_18['end_station_latitude']<=max_latitude_sf)\n",
    "start_lon = (df_18['start_station_longitude']>=min_longitude_sf) & (df_18['start_station_longitude']<=max_longitude_sf)\n",
    "end_lon = (df_18['end_station_longitude']>=min_longitude_sf) & (df_18['end_station_longitude']<=max_longitude_sf)\n",
    "\n",
    "df_sf = df_18[start_lat & end_lat & start_lon & end_lon]\n",
    "df_sf.start_station_latitude.max(), df_sf.start_station_latitude.min(), df_sf.start_station_longitude.max(), df_sf.start_station_longitude.min()\n"
   ]
  },
  {
   "cell_type": "code",
   "execution_count": 50,
   "metadata": {
    "scrolled": true
   },
   "outputs": [
    {
     "data": {
      "text/html": [
       "<div>\n",
       "<style scoped>\n",
       "    .dataframe tbody tr th:only-of-type {\n",
       "        vertical-align: middle;\n",
       "    }\n",
       "\n",
       "    .dataframe tbody tr th {\n",
       "        vertical-align: top;\n",
       "    }\n",
       "\n",
       "    .dataframe thead th {\n",
       "        text-align: right;\n",
       "    }\n",
       "</style>\n",
       "<table border=\"1\" class=\"dataframe\">\n",
       "  <thead>\n",
       "    <tr style=\"text-align: right;\">\n",
       "      <th></th>\n",
       "      <th>Unnamed: 0</th>\n",
       "      <th>duration_sec</th>\n",
       "      <th>start_time</th>\n",
       "      <th>end_time</th>\n",
       "      <th>start_station_id</th>\n",
       "      <th>start_station_name</th>\n",
       "      <th>start_station_latitude</th>\n",
       "      <th>start_station_longitude</th>\n",
       "      <th>end_station_id</th>\n",
       "      <th>end_station_name</th>\n",
       "      <th>...</th>\n",
       "      <th>end_station_longitude</th>\n",
       "      <th>bike_id</th>\n",
       "      <th>user_type</th>\n",
       "      <th>member_birth_year</th>\n",
       "      <th>member_gender</th>\n",
       "      <th>bike_share_for_all_trip</th>\n",
       "      <th>member_age</th>\n",
       "      <th>time</th>\n",
       "      <th>day</th>\n",
       "      <th>month</th>\n",
       "    </tr>\n",
       "  </thead>\n",
       "  <tbody>\n",
       "    <tr>\n",
       "      <th>0</th>\n",
       "      <td>0</td>\n",
       "      <td>598</td>\n",
       "      <td>2018-02-28 23:59:47.097</td>\n",
       "      <td>2018-03-01 00:09:45.1870</td>\n",
       "      <td>284.0</td>\n",
       "      <td>Yerba Buena Center for the Arts (Howard St at ...</td>\n",
       "      <td>37.784872</td>\n",
       "      <td>-122.400876</td>\n",
       "      <td>114.0</td>\n",
       "      <td>Rhode Island St at 17th St</td>\n",
       "      <td>...</td>\n",
       "      <td>-122.40257</td>\n",
       "      <td>1035</td>\n",
       "      <td>Subscriber</td>\n",
       "      <td>1988.0</td>\n",
       "      <td>Male</td>\n",
       "      <td>No</td>\n",
       "      <td>31</td>\n",
       "      <td>23</td>\n",
       "      <td>Wednesday</td>\n",
       "      <td>February</td>\n",
       "    </tr>\n",
       "  </tbody>\n",
       "</table>\n",
       "<p>1 rows × 21 columns</p>\n",
       "</div>"
      ],
      "text/plain": [
       "   Unnamed: 0  duration_sec              start_time                  end_time  \\\n",
       "0           0           598 2018-02-28 23:59:47.097  2018-03-01 00:09:45.1870   \n",
       "\n",
       "   start_station_id                                 start_station_name  \\\n",
       "0             284.0  Yerba Buena Center for the Arts (Howard St at ...   \n",
       "\n",
       "   start_station_latitude  start_station_longitude  end_station_id  \\\n",
       "0               37.784872              -122.400876           114.0   \n",
       "\n",
       "             end_station_name    ...     end_station_longitude  bike_id  \\\n",
       "0  Rhode Island St at 17th St    ...                -122.40257     1035   \n",
       "\n",
       "    user_type member_birth_year  member_gender bike_share_for_all_trip  \\\n",
       "0  Subscriber            1988.0           Male                      No   \n",
       "\n",
       "  member_age  time        day     month  \n",
       "0         31    23  Wednesday  February  \n",
       "\n",
       "[1 rows x 21 columns]"
      ]
     },
     "execution_count": 50,
     "metadata": {},
     "output_type": "execute_result"
    }
   ],
   "source": [
    "df_sf.head(1)"
   ]
  },
  {
   "cell_type": "code",
   "execution_count": 101,
   "metadata": {},
   "outputs": [
    {
     "name": "stdout",
     "output_type": "stream",
     "text": [
      "The total station number in San Francisco: 156\n"
     ]
    },
    {
     "data": {
      "image/png": "[encoded data removed]",
      "text/plain": [
       "<Figure size 1440x720 with 1 Axes>"
      ]
     },
     "metadata": {
      "needs_background": "light"
     },
     "output_type": "display_data"
    }
   ],
   "source": [
    "print('The total station number in San Francisco: ' + repr(df_sf['start_station_id'].nunique()))\n",
    "\n",
    "plt.figure(figsize = [20,10])\n",
    "plt.scatter(df_sf['start_station_latitude'], df_sf['start_station_longitude'], color = 'navy')\n",
    "plt.title('The Total Stations in San Francisco')\n",
    "plt.legend(['Bike Stations'])\n",
    "plt.xlabel('station latitude')\n",
    "plt.ylabel('station longitude');"
   ]
  },
  {
   "cell_type": "code",
   "execution_count": 52,
   "metadata": {},
   "outputs": [],
   "source": [
    "df_sf_top = pd.DataFrame(df_18['start_station_name'].value_counts())\n",
    "df_sf_top = df_sf_top.reset_index().rename(columns = {'index':'start_station_name', 'start_station_name':'count'})"
   ]
  },
  {
   "cell_type": "code",
   "execution_count": 53,
   "metadata": {
    "scrolled": true
   },
   "outputs": [
    {
     "data": {
      "text/plain": [
       "0    San Francisco Ferry Building (Harry Bridges Pl...\n",
       "1    San Francisco Caltrain Station 2  (Townsend St...\n",
       "2       San Francisco Caltrain (Townsend St at 4th St)\n",
       "3                                 Market St at 10th St\n",
       "4                                   Berry St at 4th St\n",
       "Name: start_station_name, dtype: object"
      ]
     },
     "execution_count": 53,
     "metadata": {},
     "output_type": "execute_result"
    }
   ],
   "source": [
    "df_sf_top.head().start_station_name"
   ]
  },
  {
   "cell_type": "markdown",
   "metadata": {},
   "source": [
    "**Top 5 most popular stations in SF**"
   ]
  },
  {
   "cell_type": "code",
   "execution_count": 54,
   "metadata": {},
   "outputs": [],
   "source": [
    "df_top5 = df_18.query('start_station_name == [\"San Francisco Ferry Building (Harry Bridges Plaza)\" ,\"San Francisco Caltrain Station 2  (Townsend St at 4th St)\", \"San Francisco Caltrain (Townsend St at 4th St)\", \"Market St at 10th St\", \"Berry St at 4th St\"]')\n"
   ]
  },
  {
   "cell_type": "code",
   "execution_count": 102,
   "metadata": {
    "scrolled": true
   },
   "outputs": [
    {
     "data": {
      "image/png": "[encoded data removed]",
      "text/plain": [
       "<Figure size 720x432 with 1 Axes>"
      ]
     },
     "metadata": {
      "needs_background": "light"
     },
     "output_type": "display_data"
    }
   ],
   "source": [
    "name = [[df_top5['start_station_latitude'], df_top5['start_station_longitude']]]\n",
    "\n",
    "plt.figure(figsize = [10,6])\n",
    "plt.scatter(df_top5['start_station_latitude'], df_top5['start_station_longitude'])\n",
    "plt.title('The Locations of Top 5 Stations in San Francisco')\n",
    "plt.legend(['Bike Stations'])\n",
    "plt.xlabel('station latitude')\n",
    "plt.ylabel('station longitude')\n",
    "plt.savefig('Station03.png');"
   ]
  },
  {
   "cell_type": "code",
   "execution_count": 103,
   "metadata": {},
   "outputs": [
    {
     "name": "stdout",
     "output_type": "stream",
     "text": [
      "The total station number in San Francisco: 156\n"
     ]
    },
    {
     "data": {
      "image/png": "[encoded data removed]",
      "text/plain": [
       "<Figure size 1440x720 with 1 Axes>"
      ]
     },
     "metadata": {
      "needs_background": "light"
     },
     "output_type": "display_data"
    }
   ],
   "source": [
    "#find top 5 stations among all sf stations\n",
    "print('The total station number in San Francisco: ' + repr(df_sf['start_station_id'].nunique()))\n",
    "\n",
    "plt.figure(figsize = [20,10])\n",
    "plt.scatter(df_sf['start_station_latitude'], df_sf['start_station_longitude'], color = 'c')\n",
    "#highlight top 5 stations\n",
    "plt.scatter(df_top5['start_station_latitude'], df_top5['start_station_longitude'], color = 'r')\n",
    "plt.title('The Top 5 Popular Stations in San Francisco')\n",
    "plt.title('The Total Stations in San Francisco')\n",
    "plt.legend(['Bike Stations'])\n",
    "plt.xlabel('station latitude')\n",
    "plt.ylabel('station longitude')\n",
    "plt.savefig('Station02.png');\n"
   ]
  },
  {
   "cell_type": "code",
   "execution_count": 104,
   "metadata": {},
   "outputs": [
    {
     "data": {
      "image/png": "[encoded data removed]",
      "text/plain": [
       "<Figure size 720x432 with 1 Axes>"
      ]
     },
     "metadata": {
      "needs_background": "light"
     },
     "output_type": "display_data"
    }
   ],
   "source": [
    "top_20 = df_18['start_station_name'].value_counts().head(20)\n",
    "plt.figure(figsize = [10,6])\n",
    "top_20.plot(kind = 'bar', color = 'deepskyblue')\n",
    "plt.title('Top 20 Popular Stations')\n",
    "plt.legend(['Usage Count'])\n",
    "plt.xlabel('station name')\n",
    "plt.ylabel('count')\n",
    "plt.savefig('Station04.png');"
   ]
  },
  {
   "cell_type": "markdown",
   "metadata": {},
   "source": [
    "**Finding:\n",
    "Over half of the bike stations are located in San Francisco city, which is 156 stations in total. The top 5 popular docks are all in San Francisco as well and three of them are near to each other.** "
   ]
  }
 ],
 "metadata": {
  "kernelspec": {
   "display_name": "Python 3",
   "language": "python",
   "name": "python3"
  },
  "language_info": {
   "codemirror_mode": {
    "name": "ipython",
    "version": 3
   },
   "file_extension": ".py",
   "mimetype": "text/x-python",
   "name": "python",
   "nbconvert_exporter": "python",
   "pygments_lexer": "ipython3",
   "version": "3.6.7"
  }
 },
 "nbformat": 4,
 "nbformat_minor": 2
}
